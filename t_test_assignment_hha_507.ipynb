{
  "nbformat": 4,
  "nbformat_minor": 0,
  "metadata": {
    "colab": {
      "name": "t test assignment- hha 507",
      "provenance": [],
      "authorship_tag": "ABX9TyN4xKz2p1q/XtuWa+IUfTjp",
      "include_colab_link": true
    },
    "kernelspec": {
      "name": "python3",
      "display_name": "Python 3"
    },
    "language_info": {
      "name": "python"
    }
  },
  "cells": [
    {
      "cell_type": "markdown",
      "metadata": {
        "id": "view-in-github",
        "colab_type": "text"
      },
      "source": [
        "<a href=\"https://colab.research.google.com/github/SirDripset/HHA-507/blob/main/t_test_assignment_hha_507.ipynb\" target=\"_parent\"><img src=\"https://colab.research.google.com/assets/colab-badge.svg\" alt=\"Open In Colab\"/></a>"
      ]
    },
    {
      "cell_type": "code",
      "metadata": {
        "id": "ZPVOJV20Ydyy"
      },
      "source": [
        "import pandas as pd\n",
        "from scipy.stats import ttest_ind\n",
        "from numpy.random import seed\n",
        "from numpy.random import randn\n",
        "import scipy.stats as stats\n",
        "from scipy.stats import shapiro\n",
        "from matplotlib import pyplot"
      ],
      "execution_count": 1,
      "outputs": []
    },
    {
      "cell_type": "markdown",
      "metadata": {
        "id": "lpH-VBNSYwp6"
      },
      "source": [
        "# **DF**"
      ]
    },
    {
      "cell_type": "code",
      "metadata": {
        "id": "xFi8a9WKYxtS"
      },
      "source": [
        "diabetes = pd.read_csv('https://raw.githubusercontent.com/hantswilliams/AHI_DataSci_507/main/Datasets/Diabetes/DB1_Diabetes/diabetic_data.csv')"
      ],
      "execution_count": 2,
      "outputs": []
    },
    {
      "cell_type": "markdown",
      "metadata": {
        "id": "ty4GkFAkY-uL"
      },
      "source": [
        "# *Variables*"
      ]
    },
    {
      "cell_type": "code",
      "metadata": {
        "colab": {
          "base_uri": "https://localhost:8080/"
        },
        "id": "i6yeta9WZBDA",
        "outputId": "3f2785bd-1cb6-43c8-bcd2-fa7b25b3aa0b"
      },
      "source": [
        "list(diabetes)"
      ],
      "execution_count": 3,
      "outputs": [
        {
          "output_type": "execute_result",
          "data": {
            "text/plain": [
              "['encounter_id',\n",
              " 'patient_nbr',\n",
              " 'race',\n",
              " 'gender',\n",
              " 'age',\n",
              " 'weight',\n",
              " 'admission_type_id',\n",
              " 'discharge_disposition_id',\n",
              " 'admission_source_id',\n",
              " 'time_in_hospital',\n",
              " 'payer_code',\n",
              " 'medical_specialty',\n",
              " 'num_lab_procedures',\n",
              " 'num_procedures',\n",
              " 'num_medications',\n",
              " 'number_outpatient',\n",
              " 'number_emergency',\n",
              " 'number_inpatient',\n",
              " 'diag_1',\n",
              " 'diag_2',\n",
              " 'diag_3',\n",
              " 'number_diagnoses',\n",
              " 'max_glu_serum',\n",
              " 'A1Cresult',\n",
              " 'metformin',\n",
              " 'repaglinide',\n",
              " 'nateglinide',\n",
              " 'chlorpropamide',\n",
              " 'glimepiride',\n",
              " 'acetohexamide',\n",
              " 'glipizide',\n",
              " 'glyburide',\n",
              " 'tolbutamide',\n",
              " 'pioglitazone',\n",
              " 'rosiglitazone',\n",
              " 'acarbose',\n",
              " 'miglitol',\n",
              " 'troglitazone',\n",
              " 'tolazamide',\n",
              " 'examide',\n",
              " 'citoglipton',\n",
              " 'insulin',\n",
              " 'glyburide-metformin',\n",
              " 'glipizide-metformin',\n",
              " 'glimepiride-pioglitazone',\n",
              " 'metformin-rosiglitazone',\n",
              " 'metformin-pioglitazone',\n",
              " 'change',\n",
              " 'diabetesMed',\n",
              " 'readmitted']"
            ]
          },
          "metadata": {},
          "execution_count": 3
        }
      ]
    },
    {
      "cell_type": "markdown",
      "metadata": {
        "id": "Bhz0OAE0ZFIy"
      },
      "source": [
        "# **T-Tests**"
      ]
    },
    {
      "cell_type": "markdown",
      "metadata": {
        "id": "w_mDqrntZJ9u"
      },
      "source": [
        "#Question 1: *Is there a difference between sex (M/F) and the number of days in hospital?*"
      ]
    },
    {
      "cell_type": "code",
      "metadata": {
        "id": "ayvJoL1gZRN7"
      },
      "source": [
        "Female = diabetes[diabetes['gender'] == 'Female']\n",
        "Male = diabetes[diabetes['gender'] == 'Male']"
      ],
      "execution_count": 4,
      "outputs": []
    },
    {
      "cell_type": "code",
      "metadata": {
        "colab": {
          "base_uri": "https://localhost:8080/"
        },
        "id": "l70dsYuwZYiS",
        "outputId": "dc132054-f7f2-4cd5-a091-821319fab40d"
      },
      "source": [
        "ttest_ind(Female['time_in_hospital'], Male['time_in_hospital'])"
      ],
      "execution_count": 5,
      "outputs": [
        {
          "output_type": "execute_result",
          "data": {
            "text/plain": [
              "Ttest_indResult(statistic=9.542637042242887, pvalue=1.4217299655114968e-21)"
            ]
          },
          "metadata": {},
          "execution_count": 5
        }
      ]
    },
    {
      "cell_type": "markdown",
      "metadata": {
        "id": "PqVbgVbGZeoy"
      },
      "source": [
        "# **Results**"
      ]
    },
    {
      "cell_type": "markdown",
      "metadata": {
        "id": "C2Rlzr8nZi-b"
      },
      "source": [
        "*statistic: 9.542637042242887*\n",
        "\n",
        "*p value: 1.4 e^21*\n",
        "\n",
        "\n",
        "Since the p-value is less than 0.05, this shows there is a significant difference between the two groups (M/F) and the # of days each gender spent in the hospital"
      ]
    },
    {
      "cell_type": "markdown",
      "metadata": {
        "id": "aMfZdc6lZ4Bf"
      },
      "source": [
        "#*Question 2: Is there a differnece between race (Caucasian and African-American) and the # of days spend in the hospital?*"
      ]
    },
    {
      "cell_type": "code",
      "metadata": {
        "id": "Do2firg4RFb2"
      },
      "source": [
        "Caucasian = diabetes[diabetes['race'] == 'Caucasian'] \n",
        "African_American = diabetes[diabetes['race'] == 'AfricanAmerican']"
      ],
      "execution_count": 6,
      "outputs": []
    },
    {
      "cell_type": "code",
      "metadata": {
        "colab": {
          "base_uri": "https://localhost:8080/"
        },
        "id": "hKKJcR14aQKi",
        "outputId": "a84382e3-6a93-4299-fbcb-7273e5647fc3"
      },
      "source": [
        "ttest_ind(Caucasian['time_in_hospital'], African_American ['time_in_hospital'])"
      ],
      "execution_count": 7,
      "outputs": [
        {
          "output_type": "execute_result",
          "data": {
            "text/plain": [
              "Ttest_indResult(statistic=-5.0610017032095325, pvalue=4.178330085585203e-07)"
            ]
          },
          "metadata": {},
          "execution_count": 7
        }
      ]
    },
    {
      "cell_type": "markdown",
      "metadata": {
        "id": "ojp93SwTaRw4"
      },
      "source": [
        "#**Results**"
      ]
    },
    {
      "cell_type": "markdown",
      "metadata": {
        "id": "xFxOM-D-aUXS"
      },
      "source": [
        "*statistic: -5.06*\n",
        "\n",
        "*p-value: 4.178 e-07*\n",
        "\n",
        "The p value is less than 0.05 which indiciates there is a significant difference between the two groups and the # of days spent in the hospital."
      ]
    },
    {
      "cell_type": "markdown",
      "metadata": {
        "id": "zbSBKbs6aosm"
      },
      "source": [
        "#*Question 3: Is there a difference between race (African-American and Asian) and the # of lab procedures performed?*"
      ]
    },
    {
      "cell_type": "code",
      "metadata": {
        "id": "lO1jb1zxaz3u"
      },
      "source": [
        "Asian = diabetes[diabetes['race'] == 'Asian']\n",
        "African_American = diabetes[diabetes['race'] == 'AfricanAmerican']"
      ],
      "execution_count": 8,
      "outputs": []
    },
    {
      "cell_type": "code",
      "metadata": {
        "colab": {
          "base_uri": "https://localhost:8080/"
        },
        "id": "uxbXLkMwa_Uh",
        "outputId": "f8626e41-98a9-47fe-c431-028b3311de20"
      },
      "source": [
        "ttest_ind(Asian['num_lab_procedures'], African_American['num_lab_procedures'])"
      ],
      "execution_count": 9,
      "outputs": [
        {
          "output_type": "execute_result",
          "data": {
            "text/plain": [
              "Ttest_indResult(statistic=-3.9788715315360292, pvalue=6.948907528800307e-05)"
            ]
          },
          "metadata": {},
          "execution_count": 9
        }
      ]
    },
    {
      "cell_type": "markdown",
      "metadata": {
        "id": "5nDzc-acbBYJ"
      },
      "source": [
        "#**Results**\n",
        "\n",
        "*statistic: -3.97887*\n",
        "*p-value: 6.9489e-05*\n",
        "\n",
        "The p-value is less than 0.05 which indicates there is a significant difference between the two groups and # of days spent in the hospital."
      ]
    }
  ]
}