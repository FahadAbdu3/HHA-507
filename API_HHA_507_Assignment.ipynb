{
  "nbformat": 4,
  "nbformat_minor": 0,
  "metadata": {
    "colab": {
      "name": "API- HHA 507 Assignment",
      "provenance": [],
      "collapsed_sections": [],
      "authorship_tag": "ABX9TyOz3X2mwQuFqLAmFQjNFByX",
      "include_colab_link": true
    },
    "kernelspec": {
      "name": "python3",
      "display_name": "Python 3"
    },
    "language_info": {
      "name": "python"
    }
  },
  "cells": [
    {
      "cell_type": "markdown",
      "metadata": {
        "id": "view-in-github",
        "colab_type": "text"
      },
      "source": [
        "<a href=\"https://colab.research.google.com/github/SirDripset/HHA-507/blob/main/API_HHA_507_Assignment.ipynb\" target=\"_parent\"><img src=\"https://colab.research.google.com/assets/colab-badge.svg\" alt=\"Open In Colab\"/></a>"
      ]
    },
    {
      "cell_type": "markdown",
      "metadata": {
        "id": "ct3SIlvkjD2z"
      },
      "source": [
        "#Install necessary packages"
      ]
    },
    {
      "cell_type": "code",
      "metadata": {
        "id": "CHwRgSMQjIi7"
      },
      "source": [
        "import json\n",
        "import pandas as pd\n",
        "import requests"
      ],
      "execution_count": 2,
      "outputs": []
    },
    {
      "cell_type": "markdown",
      "metadata": {
        "id": "qFLP8d1clNSX"
      },
      "source": [
        "# Request to pull dataset from API"
      ]
    },
    {
      "cell_type": "code",
      "metadata": {
        "id": "0Xxl_DhZlQxs"
      },
      "source": [
        "response = requests.get('https://disease.sh/v3/covid-19/historical/all?lastdays=all')"
      ],
      "execution_count": 3,
      "outputs": []
    },
    {
      "cell_type": "code",
      "metadata": {
        "colab": {
          "base_uri": "https://localhost:8080/"
        },
        "id": "zgdsfWxFlWF9",
        "outputId": "cb51d807-2278-4de4-cd34-efc59d5a5a5f"
      },
      "source": [
        "print(response.status_code)"
      ],
      "execution_count": 4,
      "outputs": [
        {
          "output_type": "stream",
          "name": "stdout",
          "text": [
            "200\n"
          ]
        }
      ]
    }
  ]
}